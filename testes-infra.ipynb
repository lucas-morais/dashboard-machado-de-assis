{
 "cells": [
  {
   "cell_type": "markdown",
   "metadata": {},
   "source": [
    "## Testando arquivos"
   ]
  },
  {
   "cell_type": "code",
   "execution_count": 1,
   "metadata": {},
   "outputs": [
    {
     "name": "stdout",
     "output_type": "stream",
     "text": [
      "\u001b[33mWARNING: You are using pip version 21.2.3; however, version 22.0.3 is available.\n",
      "You should consider upgrading via the '/home/lucas/Workspace/github/projetos/dashboard-machado-de-assis/venv/bin/python -m pip install --upgrade pip' command.\u001b[0m\n",
      "Note: you may need to restart the kernel to use updated packages.\n"
     ]
    }
   ],
   "source": [
    "%pip install nltk -q"
   ]
  },
  {
   "cell_type": "code",
   "execution_count": 1,
   "metadata": {},
   "outputs": [],
   "source": [
    "import nltk"
   ]
  },
  {
   "cell_type": "code",
   "execution_count": 2,
   "metadata": {},
   "outputs": [
    {
     "name": "stdout",
     "output_type": "stream",
     "text": [
      "showing info https://raw.githubusercontent.com/nltk/nltk_data/gh-pages/index.xml\n"
     ]
    },
    {
     "data": {
      "text/plain": [
       "True"
      ]
     },
     "execution_count": 2,
     "metadata": {},
     "output_type": "execute_result"
    }
   ],
   "source": [
    "# Donwload do corpus machado\n",
    "nltk.download()"
   ]
  },
  {
   "cell_type": "code",
   "execution_count": 2,
   "metadata": {},
   "outputs": [
    {
     "data": {
      "text/plain": [
       "['contos/macn001.txt',\n",
       " 'contos/macn002.txt',\n",
       " 'contos/macn003.txt',\n",
       " 'contos/macn004.txt',\n",
       " 'contos/macn005.txt',\n",
       " 'contos/macn006.txt',\n",
       " 'contos/macn007.txt',\n",
       " 'contos/macn008.txt',\n",
       " 'contos/macn009.txt',\n",
       " 'contos/macn010.txt',\n",
       " 'contos/macn011.txt',\n",
       " 'contos/macn012.txt',\n",
       " 'contos/macn013.txt',\n",
       " 'contos/macn014.txt',\n",
       " 'contos/macn015.txt',\n",
       " 'contos/macn016.txt',\n",
       " 'contos/macn017.txt',\n",
       " 'contos/macn018.txt',\n",
       " 'contos/macn019.txt',\n",
       " 'contos/macn020.txt',\n",
       " 'contos/macn021.txt',\n",
       " 'contos/macn022.txt',\n",
       " 'contos/macn023.txt',\n",
       " 'contos/macn024.txt',\n",
       " 'contos/macn025.txt',\n",
       " 'contos/macn026.txt',\n",
       " 'contos/macn027.txt',\n",
       " 'contos/macn028.txt',\n",
       " 'contos/macn029.txt',\n",
       " 'contos/macn030.txt',\n",
       " 'contos/macn031.txt',\n",
       " 'contos/macn032.txt',\n",
       " 'contos/macn033.txt',\n",
       " 'contos/macn034.txt',\n",
       " 'contos/macn035.txt',\n",
       " 'contos/macn036.txt',\n",
       " 'contos/macn037.txt',\n",
       " 'contos/macn038.txt',\n",
       " 'contos/macn039.txt',\n",
       " 'contos/macn040.txt',\n",
       " 'contos/macn041.txt',\n",
       " 'contos/macn042.txt',\n",
       " 'contos/macn043.txt',\n",
       " 'contos/macn044.txt',\n",
       " 'contos/macn045.txt',\n",
       " 'contos/macn046.txt',\n",
       " 'contos/macn047.txt',\n",
       " 'contos/macn048.txt',\n",
       " 'contos/macn049.txt',\n",
       " 'contos/macn050.txt',\n",
       " 'contos/macn051.txt',\n",
       " 'contos/macn052.txt',\n",
       " 'contos/macn053.txt',\n",
       " 'contos/macn054.txt',\n",
       " 'contos/macn055.txt',\n",
       " 'contos/macn056.txt',\n",
       " 'contos/macn057.txt',\n",
       " 'contos/macn058.txt',\n",
       " 'contos/macn059.txt',\n",
       " 'contos/macn060.txt',\n",
       " 'contos/macn061.txt',\n",
       " 'contos/macn062.txt',\n",
       " 'contos/macn063.txt',\n",
       " 'contos/macn064.txt',\n",
       " 'contos/macn065.txt',\n",
       " 'contos/macn066.txt',\n",
       " 'contos/macn067.txt',\n",
       " 'contos/macn068.txt',\n",
       " 'contos/macn069.txt',\n",
       " 'contos/macn070.txt',\n",
       " 'contos/macn071.txt',\n",
       " 'contos/macn072.txt',\n",
       " 'contos/macn073.txt',\n",
       " 'contos/macn074.txt',\n",
       " 'contos/macn075.txt',\n",
       " 'contos/macn076.txt',\n",
       " 'contos/macn077.txt',\n",
       " 'contos/macn078.txt',\n",
       " 'contos/macn079.txt',\n",
       " 'contos/macn080.txt',\n",
       " 'contos/macn081.txt',\n",
       " 'contos/macn082.txt',\n",
       " 'contos/macn083.txt',\n",
       " 'contos/macn084.txt',\n",
       " 'contos/macn085.txt',\n",
       " 'contos/macn086.txt',\n",
       " 'contos/macn087.txt',\n",
       " 'contos/macn088.txt',\n",
       " 'contos/macn089.txt',\n",
       " 'contos/macn090.txt',\n",
       " 'contos/macn091.txt',\n",
       " 'contos/macn092.txt',\n",
       " 'contos/macn093.txt',\n",
       " 'contos/macn094.txt',\n",
       " 'contos/macn095.txt',\n",
       " 'contos/macn096.txt',\n",
       " 'contos/macn097.txt',\n",
       " 'contos/macn098.txt',\n",
       " 'contos/macn099.txt',\n",
       " 'contos/macn100.txt',\n",
       " 'contos/macn101.txt',\n",
       " 'contos/macn102.txt',\n",
       " 'contos/macn103.txt',\n",
       " 'contos/macn104.txt',\n",
       " 'contos/macn105.txt',\n",
       " 'contos/macn106.txt',\n",
       " 'contos/macn107.txt',\n",
       " 'contos/macn108.txt',\n",
       " 'contos/macn109.txt',\n",
       " 'contos/macn110.txt',\n",
       " 'contos/macn111.txt',\n",
       " 'contos/macn112.txt',\n",
       " 'contos/macn113.txt',\n",
       " 'contos/macn114.txt',\n",
       " 'contos/macn115.txt',\n",
       " 'contos/macn116.txt',\n",
       " 'contos/macn117.txt',\n",
       " 'contos/macn118.txt',\n",
       " 'contos/macn119.txt',\n",
       " 'contos/macn120.txt',\n",
       " 'contos/macn121.txt',\n",
       " 'contos/macn122.txt',\n",
       " 'contos/macn123.txt',\n",
       " 'contos/macn124.txt',\n",
       " 'contos/macn125.txt',\n",
       " 'contos/macn126.txt',\n",
       " 'contos/macn127.txt',\n",
       " 'contos/macn128.txt',\n",
       " 'contos/macn129.txt',\n",
       " 'contos/macn130.txt',\n",
       " 'contos/macn131.txt',\n",
       " 'contos/macn132.txt',\n",
       " 'contos/macn133.txt',\n",
       " 'contos/macn134.txt',\n",
       " 'contos/macn135.txt',\n",
       " 'contos/macn136.txt',\n",
       " 'contos/macn137.txt',\n",
       " 'critica/mact01.txt',\n",
       " 'critica/mact02.txt',\n",
       " 'critica/mact03.txt',\n",
       " 'critica/mact04.txt',\n",
       " 'critica/mact05.txt',\n",
       " 'critica/mact06.txt',\n",
       " 'critica/mact07.txt',\n",
       " 'critica/mact08.txt',\n",
       " 'critica/mact09.txt',\n",
       " 'critica/mact10.txt',\n",
       " 'critica/mact11.txt',\n",
       " 'critica/mact12.txt',\n",
       " 'critica/mact13.txt',\n",
       " 'critica/mact14.txt',\n",
       " 'critica/mact15.txt',\n",
       " 'critica/mact16.txt',\n",
       " 'critica/mact17.txt',\n",
       " 'critica/mact18.txt',\n",
       " 'critica/mact19.txt',\n",
       " 'critica/mact20.txt',\n",
       " 'critica/mact21.txt',\n",
       " 'critica/mact22.txt',\n",
       " 'critica/mact23.txt',\n",
       " 'critica/mact24.txt',\n",
       " 'critica/mact25.txt',\n",
       " 'critica/mact26.txt',\n",
       " 'critica/mact27.txt',\n",
       " 'critica/mact28.txt',\n",
       " 'critica/mact29.txt',\n",
       " 'critica/mact30.txt',\n",
       " 'critica/mact31.txt',\n",
       " 'critica/mact32.txt',\n",
       " 'critica/mact33.txt',\n",
       " 'critica/mact34.txt',\n",
       " 'critica/mact35.txt',\n",
       " 'critica/mact36.txt',\n",
       " 'critica/mact37.txt',\n",
       " 'critica/mact38.txt',\n",
       " 'critica/mact39.txt',\n",
       " 'critica/mact40.txt',\n",
       " 'critica/mact41.txt',\n",
       " 'critica/mact42.txt',\n",
       " 'critica/mact43.txt',\n",
       " 'critica/mact44.txt',\n",
       " 'critica/mact45.txt',\n",
       " 'cronica/macr01.txt',\n",
       " 'cronica/macr02.txt',\n",
       " 'cronica/macr03.txt',\n",
       " 'cronica/macr04.txt',\n",
       " 'cronica/macr05.txt',\n",
       " 'cronica/macr06.txt',\n",
       " 'cronica/macr07.txt',\n",
       " 'cronica/macr08.txt',\n",
       " 'cronica/macr09.txt',\n",
       " 'cronica/macr10.txt',\n",
       " 'cronica/macr11.txt',\n",
       " 'cronica/macr12.txt',\n",
       " 'cronica/macr13.txt',\n",
       " 'cronica/macr14.txt',\n",
       " 'cronica/macr15.txt',\n",
       " 'cronica/macr16.txt',\n",
       " 'cronica/macr17.txt',\n",
       " 'cronica/macr18.txt',\n",
       " 'cronica/macr19.txt',\n",
       " 'cronica/macr20.txt',\n",
       " 'cronica/macr21.txt',\n",
       " 'cronica/macr22.txt',\n",
       " 'cronica/macr23.txt',\n",
       " 'cronica/macr24.txt',\n",
       " 'miscelanea/mams01.txt',\n",
       " 'miscelanea/mams02.txt',\n",
       " 'miscelanea/mams03.txt',\n",
       " 'miscelanea/mams04.txt',\n",
       " 'miscelanea/mams05.txt',\n",
       " 'miscelanea/mams06.txt',\n",
       " 'miscelanea/mams07.txt',\n",
       " 'miscelanea/mams08.txt',\n",
       " 'miscelanea/mams09.txt',\n",
       " 'miscelanea/mams10.txt',\n",
       " 'poesia/maps01.txt',\n",
       " 'poesia/maps02.txt',\n",
       " 'poesia/maps03.txt',\n",
       " 'poesia/maps04.txt',\n",
       " 'poesia/maps05.txt',\n",
       " 'poesia/maps06.txt',\n",
       " 'poesia/maps07.txt',\n",
       " 'romance/marm01.txt',\n",
       " 'romance/marm02.txt',\n",
       " 'romance/marm03.txt',\n",
       " 'romance/marm04.txt',\n",
       " 'romance/marm05.txt',\n",
       " 'romance/marm06.txt',\n",
       " 'romance/marm07.txt',\n",
       " 'romance/marm08.txt',\n",
       " 'romance/marm09.txt',\n",
       " 'romance/marm10.txt',\n",
       " 'teatro/matt01.txt',\n",
       " 'teatro/matt02.txt',\n",
       " 'teatro/matt03.txt',\n",
       " 'teatro/matt04.txt',\n",
       " 'teatro/matt05.txt',\n",
       " 'teatro/matt06.txt',\n",
       " 'teatro/matt07.txt',\n",
       " 'teatro/matt08.txt',\n",
       " 'teatro/matt09.txt',\n",
       " 'teatro/matt10.txt',\n",
       " 'traducao/matr01.txt',\n",
       " 'traducao/matr02.txt',\n",
       " 'traducao/matr03.txt']"
      ]
     },
     "execution_count": 2,
     "metadata": {},
     "output_type": "execute_result"
    }
   ],
   "source": [
    "from nltk.corpus import machado\n",
    "machado.fileids()"
   ]
  },
  {
   "cell_type": "code",
   "execution_count": 4,
   "metadata": {},
   "outputs": [
    {
     "data": {
      "text/plain": [
       "'Romance, Memórias Póstumas de Brás Cubas, 1880\\n\\nMemórias Póstumas de\\nBrás Cubas\\n\\nTexto-fonte:\\nObra C'"
      ]
     },
     "execution_count": 4,
     "metadata": {},
     "output_type": "execute_result"
    }
   ],
   "source": [
    "raw = machado.raw('romance/marm05.txt')\n",
    "raw[0:100]"
   ]
  },
  {
   "cell_type": "code",
   "execution_count": 6,
   "metadata": {},
   "outputs": [
    {
     "data": {
      "text/plain": [
       "'CAPÍTULO PRIMEIRO / ÓBITO DO\\nAUTOR\\n\\nAlgum tempo hesitei se devia abrir\\nestas memórias pelo princípio'"
      ]
     },
     "execution_count": 6,
     "metadata": {},
     "output_type": "execute_result"
    }
   ],
   "source": [
    "raw.find('CAPÍTULO',)\n",
    "raw[3466:3566]"
   ]
  },
  {
   "cell_type": "code",
   "execution_count": 3,
   "metadata": {},
   "outputs": [],
   "source": [
    "romances = [filename for filename in machado.fileids() if 'romance' in filename]"
   ]
  },
  {
   "cell_type": "code",
   "execution_count": 4,
   "metadata": {},
   "outputs": [
    {
     "data": {
      "text/plain": [
       "['romance/marm01.txt',\n",
       " 'romance/marm02.txt',\n",
       " 'romance/marm03.txt',\n",
       " 'romance/marm04.txt',\n",
       " 'romance/marm05.txt',\n",
       " 'romance/marm06.txt',\n",
       " 'romance/marm07.txt',\n",
       " 'romance/marm08.txt',\n",
       " 'romance/marm09.txt',\n",
       " 'romance/marm10.txt']"
      ]
     },
     "execution_count": 4,
     "metadata": {},
     "output_type": "execute_result"
    }
   ],
   "source": [
    "romances"
   ]
  },
  {
   "cell_type": "code",
   "execution_count": 106,
   "metadata": {},
   "outputs": [],
   "source": [
    "import re\n",
    "\n",
    "def find_title(files):\n",
    "    titles = []\n",
    "    years = []\n",
    "    for file in files:\n",
    "        sent = re.findall(r'(Romance|ROMANCE), (.*)(\\d{4})', machado.raw(file))\n",
    "        titles.append(sent[0][1].replace(',', ''))\n",
    "        years.append(sent[0][2])\n",
    "    return titles, years"
   ]
  },
  {
   "cell_type": "code",
   "execution_count": 107,
   "metadata": {},
   "outputs": [
    {
     "data": {
      "text/plain": [
       "(['Ressurreição',\n",
       "  'A Mão e a Luva',\n",
       "  'Helena',\n",
       "  'Iaiá Garcia',\n",
       "  'Memórias Póstumas de Brás Cubas ',\n",
       "  'Casa Velha',\n",
       "  'Quincas Borba',\n",
       "  'Dom Casmurro ',\n",
       "  'Esaú e Jacó',\n",
       "  'Memorial de Aires'],\n",
       " ['1872',\n",
       "  '1874',\n",
       "  '1876',\n",
       "  '1878',\n",
       "  '1880',\n",
       "  '1885',\n",
       "  '1891',\n",
       "  '1899',\n",
       "  '1904',\n",
       "  '1908'])"
      ]
     },
     "execution_count": 107,
     "metadata": {},
     "output_type": "execute_result"
    }
   ],
   "source": [
    "find_title(romances)"
   ]
  },
  {
   "cell_type": "code",
   "execution_count": 198,
   "metadata": {},
   "outputs": [],
   "source": [
    "bras_cubas = machado.raw('romance/marm05.txt')\n",
    "res = re.findall(r'CAPITULO|CAPÍTULO .+/.*\\n.*', bras_cubas)"
   ]
  },
  {
   "cell_type": "code",
   "execution_count": 200,
   "metadata": {},
   "outputs": [
    {
     "name": "stdout",
     "output_type": "stream",
     "text": [
      "160\n"
     ]
    }
   ],
   "source": [
    "print(len(res))"
   ]
  },
  {
   "cell_type": "code",
   "execution_count": 201,
   "metadata": {},
   "outputs": [
    {
     "data": {
      "text/plain": [
       "'to e\\nlongo. O melhor prólogo é o que contém menos coisas, ou o que as diz de um jeito\\nobscuro e truncado. Conseguintemente, evito contar o processo extraordinário que\\nempreguei na composição destas Memórias, trabalhadas cá no outro mundo.\\nSeria curioso, mas nimiamente extenso, e aliás desnecessário ao entendimento da\\nobra. A obra em si mesma é tudo: se te agradar, fino leitor, pago-me da tarefa;\\nse te não agradar, pago-te com um piparote, e adeus.\\n\\nBrás Cubas.\\n\\nCAPÍTULO PRIMEIRO / ÓBITO DO\\nAUTOR\\n\\nAlgum tempo hesitei se devia abrir\\nestas memórias pelo princípio ou pelo fim, isto é, se poria em primeiro lugar o\\nmeu nascimento ou a minha morte. Suposto o uso vulgar seja começar pelo\\nnascimento, duas considerações me levaram a adotar diferente método: a primeira\\né que eu não sou propriamente um autor defunto, mas um defunto autor, para quem\\na campa foi outro berço; a segunda é que o escrito ficaria assim mais galante e\\nmais novo. Moisés, que também contou a sua morte, não a pôs no intróito'"
      ]
     },
     "execution_count": 201,
     "metadata": {},
     "output_type": "execute_result"
    }
   ],
   "source": [
    "bras_cubas[3000:4000]"
   ]
  },
  {
   "cell_type": "code",
   "execution_count": 217,
   "metadata": {},
   "outputs": [
    {
     "name": "stdout",
     "output_type": "stream",
     "text": [
      "121\n"
     ]
    }
   ],
   "source": [
    "livro = machado.raw('romance/marm09.txt')\n",
    "res = re.findall(r'CAPITULO|CAPÍTULO .*/*.*\\n*.*', livro)\n",
    "\n",
    "print(len(res))"
   ]
  },
  {
   "cell_type": "code",
   "execution_count": null,
   "metadata": {},
   "outputs": [],
   "source": []
  }
 ],
 "metadata": {
  "interpreter": {
   "hash": "52c370a41784f260acd83e8e732cad74d2dd7e05663b9d1eb0bb527fb6802ca0"
  },
  "kernelspec": {
   "display_name": "Python 3.9.7 ('venv': venv)",
   "language": "python",
   "name": "python3"
  },
  "language_info": {
   "codemirror_mode": {
    "name": "ipython",
    "version": 3
   },
   "file_extension": ".py",
   "mimetype": "text/x-python",
   "name": "python",
   "nbconvert_exporter": "python",
   "pygments_lexer": "ipython3",
   "version": "3.9.7"
  },
  "orig_nbformat": 4
 },
 "nbformat": 4,
 "nbformat_minor": 2
}
